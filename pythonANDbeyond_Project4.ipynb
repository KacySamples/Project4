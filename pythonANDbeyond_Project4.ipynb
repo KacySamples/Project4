{
 "cells": [
  {
   "cell_type": "code",
   "execution_count": 1,
   "id": "5b7d9dc7",
   "metadata": {},
   "outputs": [],
   "source": [
    "#DATA CLEANING and MERGING"
   ]
  },
  {
   "cell_type": "code",
   "execution_count": 2,
   "id": "9134d26a",
   "metadata": {},
   "outputs": [],
   "source": [
    "import pandas as pd"
   ]
  },
  {
   "cell_type": "code",
   "execution_count": 3,
   "id": "1ec2b86d",
   "metadata": {},
   "outputs": [
    {
     "name": "stderr",
     "output_type": "stream",
     "text": [
      "C:\\Users\\sampl\\AppData\\Local\\Temp\\ipykernel_20688\\2315768313.py:2: DtypeWarning: Columns (10) have mixed types. Specify dtype option on import or set low_memory=False.\n",
      "  movies_metadata = pd.read_csv('./data/movies_metadata.csv')\n"
     ]
    }
   ],
   "source": [
    "# Load the dataset\n",
    "movies_metadata = pd.read_csv('./data/movies_metadata.csv')\n",
    "\n",
    "# Convert budget, popularity, revenue, runtime, vote_average, and vote_count to numeric\n",
    "numeric_columns = ['budget', 'popularity', 'revenue', 'runtime', 'vote_average', 'vote_count']\n",
    "for col in numeric_columns:\n",
    "    movies_metadata[col] = pd.to_numeric(movies_metadata[col], errors='coerce').fillna(0)\n",
    "\n",
    "# Convert release_date to datetime\n",
    "movies_metadata['release_date'] = pd.to_datetime(movies_metadata['release_date'], errors='coerce')\n",
    "\n",
    "# Drop unneeded columns\n",
    "columns_to_drop = ['adult', 'homepage', 'poster_path', 'video']\n",
    "movies_metadata.drop(columns=columns_to_drop, inplace=True)"
   ]
  },
  {
   "cell_type": "code",
   "execution_count": 4,
   "id": "f5e4aae4",
   "metadata": {},
   "outputs": [],
   "source": [
    "# load credits.csv into a DataFrame\n",
    "credits = pd.read_csv('./data/credits.csv')\n",
    "\n",
    "# Convert 'id' in credits to integer\n",
    "credits['id'] = pd.to_numeric(credits['id'], errors='coerce').astype('Int64')"
   ]
  },
  {
   "cell_type": "code",
   "execution_count": 5,
   "id": "d379ee84",
   "metadata": {},
   "outputs": [],
   "source": [
    "# load keywords.csv into a DataFrame\n",
    "keywords = pd.read_csv('./data/keywords.csv')\n",
    "\n",
    "# Convert 'id' in keywords to integer\n",
    "keywords['id'] = pd.to_numeric(keywords['id'], errors='coerce').fillna(0).astype('Int64')"
   ]
  },
  {
   "cell_type": "code",
   "execution_count": 6,
   "id": "de08351f",
   "metadata": {},
   "outputs": [],
   "source": [
    "# Convert 'id' in movies_metadata to integer\n",
    "movies_metadata['id'] = pd.to_numeric(movies_metadata['id'], errors='coerce').fillna(0).astype('Int64')"
   ]
  },
  {
   "cell_type": "code",
   "execution_count": 7,
   "id": "68e31f40",
   "metadata": {},
   "outputs": [],
   "source": [
    "# Merge\n",
    "movies_metadata = movies_metadata.merge(credits, on='id', how='left')\n",
    "movies_metadata = movies_metadata.merge(keywords, on='id', how='left')"
   ]
  },
  {
   "cell_type": "code",
   "execution_count": 8,
   "id": "e0e07966",
   "metadata": {},
   "outputs": [],
   "source": [
    "# Save the merged DataFrame to a new CSV file\n",
    "movies_metadata.to_csv('./data/cleaned_merged_movies_data.csv', index=False)"
   ]
  },
  {
   "cell_type": "code",
   "execution_count": null,
   "id": "6558b8cc",
   "metadata": {},
   "outputs": [],
   "source": [
    "# MORE CLEANING AND PARSING JSON-LIKE STRING COLUMNS IN A DATAFRAME"
   ]
  },
  {
   "cell_type": "code",
   "execution_count": 9,
   "id": "5ca74f31",
   "metadata": {},
   "outputs": [
    {
     "data": {
      "text/plain": [
       "0     [Animation, Comedy, Family]\n",
       "1    [Adventure, Fantasy, Family]\n",
       "2               [Romance, Comedy]\n",
       "3        [Comedy, Drama, Romance]\n",
       "4                        [Comedy]\n",
       "Name: genres, dtype: object"
      ]
     },
     "execution_count": 9,
     "metadata": {},
     "output_type": "execute_result"
    }
   ],
   "source": [
    "import ast  # Import the Abstract Syntax Trees module\n",
    "\n",
    "# Create DataFrame\n",
    "df = pd.read_csv('./data/cleaned_merged_movies_data.csv')\n",
    "\n",
    "# Parse the JSON-like strings in columns\n",
    "def parse_column(text):\n",
    "    try:\n",
    "        # Convert the string to Python objects\n",
    "        return ast.literal_eval(text)\n",
    "    except ValueError:\n",
    "        return []  # Return an empty list if there's any error\n",
    "    except SyntaxError:\n",
    "        return []  # Handle syntax error by returning an empty list\n",
    "\n",
    "# Apply this function to the 'genres' column to convert from string to list\n",
    "df['genres'] = df['genres'].apply(parse_column)\n",
    "\n",
    "# Now, to extract just the names from the 'genres' column\n",
    "df['genres'] = df['genres'].apply(lambda x: [i['name'] for i in x] if isinstance(x, list) else [])\n",
    "\n",
    "# Preview the changes to the 'genres' column to confirm it's been cleaned\n",
    "df['genres'].head()"
   ]
  },
  {
   "cell_type": "code",
   "execution_count": 10,
   "id": "edbeb6f6",
   "metadata": {},
   "outputs": [],
   "source": [
    "# Apply the parsing function to the 'production_companies' column\n",
    "df['production_companies'] = df['production_companies'].apply(parse_column)\n",
    "\n",
    "# Extract company names\n",
    "df['production_companies'] = df['production_companies'].apply(lambda x: [i['name'] for i in x] if isinstance(x, list) else [])"
   ]
  },
  {
   "cell_type": "code",
   "execution_count": 11,
   "id": "761c8cd2",
   "metadata": {},
   "outputs": [],
   "source": [
    "# Apply the parsing function to the 'cast' column\n",
    "df['cast'] = df['cast'].apply(parse_column)\n",
    "\n",
    "# Extract names of the first few cast members, 5 for simplicity\n",
    "df['cast'] = df['cast'].apply(lambda x: [i['name'] for i in x[:5]] if isinstance(x, list) else [])"
   ]
  },
  {
   "cell_type": "code",
   "execution_count": 12,
   "id": "f19a7cd7",
   "metadata": {},
   "outputs": [],
   "source": [
    "# Apply the parsing function to the 'crew' column\n",
    "df['crew'] = df['crew'].apply(parse_column)\n",
    "\n",
    "# Extract names of directors\n",
    "df['crew'] = df['crew'].apply(lambda x: [i['name'] for i in x if i['job'] == 'Director'] if isinstance(x, list) else [])"
   ]
  },
  {
   "cell_type": "code",
   "execution_count": 13,
   "id": "908b1a78",
   "metadata": {},
   "outputs": [],
   "source": [
    "# Apply the parsing function to the 'keywords' column\n",
    "df['keywords'] = df['keywords'].apply(parse_column)\n",
    "\n",
    "# Extract keywords\n",
    "df['keywords'] = df['keywords'].apply(lambda x: [i['name'] for i in x] if isinstance(x, list) else [])"
   ]
  },
  {
   "cell_type": "code",
   "execution_count": null,
   "id": "68465b0b",
   "metadata": {},
   "outputs": [],
   "source": [
    "# WORKFLOW FOR BUILDING A CONTENT-BASED RECOMMENDATION SYSTEM"
   ]
  },
  {
   "cell_type": "code",
   "execution_count": 14,
   "id": "c3d5efcc",
   "metadata": {},
   "outputs": [],
   "source": [
    "#Aggregate Text Features, Combine text features into one string\n",
    "df['combined_features'] = df['overview'] + \" \" + df['genres'].apply(\" \".join) + \" \" + df['keywords'].apply(\" \".join) + \" \" + df['cast'].apply(\" \".join) + \" \" + df['crew'].apply(\" \".join)"
   ]
  },
  {
   "cell_type": "code",
   "execution_count": 15,
   "id": "8db489af",
   "metadata": {},
   "outputs": [],
   "source": [
    "# Fill NaN values in 'combined_features' with an empty string\n",
    "df['combined_features'] = df['combined_features'].fillna('')\n",
    "\n",
    "#TF-IDF vectorization\n",
    "from sklearn.feature_extraction.text import TfidfVectorizer\n",
    "\n",
    "# Initialize TF-IDF Vectorizer\n",
    "tfidf_vectorizer = TfidfVectorizer(stop_words='english')\n",
    "\n",
    "# Fit and transform the combined features\n",
    "tfidf_matrix = tfidf_vectorizer.fit_transform(df['combined_features'])"
   ]
  },
  {
   "cell_type": "code",
   "execution_count": 17,
   "id": "b71aa2a2",
   "metadata": {},
   "outputs": [],
   "source": [
    "# This one will take FOREVER, but that's ok...\n",
    "from sklearn.decomposition import TruncatedSVD\n",
    "from sklearn.metrics.pairwise import linear_kernel\n",
    "\n",
    "# Further reduce the number of components\n",
    "svd = TruncatedSVD(n_components=50)  # Adjusting n_components further\n",
    "tfidf_matrix_reduced = svd.fit_transform(tfidf_matrix)\n",
    "\n",
    "# Compute similarity on the reduced matrix\n",
    "cosine_sim = linear_kernel(tfidf_matrix_reduced, tfidf_matrix_reduced)"
   ]
  },
  {
   "cell_type": "code",
   "execution_count": 18,
   "id": "164bc32d",
   "metadata": {},
   "outputs": [],
   "source": [
    "#Recommendation Function\n",
    "# Function to get movie recommendations based on cosine similarity\n",
    "def get_recommendations(title, cosine_sim=cosine_sim):\n",
    "    # Get the index of the movie that matches the title\n",
    "    idx = df.loc[df['title'] == title].index[0]\n",
    "\n",
    "    # Get the pairwsie similarity scores of all movies with that movie\n",
    "    sim_scores = list(enumerate(cosine_sim[idx]))\n",
    "\n",
    "    # Sort the movies based on the similarity scores\n",
    "    sim_scores = sorted(sim_scores, key=lambda x: x[1], reverse=True)\n",
    "\n",
    "    # Get the scores of the 10 most similar movies\n",
    "    sim_scores = sim_scores[1:11]\n",
    "\n",
    "    # Get the movie indices\n",
    "    movie_indices = [i[0] for i in sim_scores]\n",
    "\n",
    "    # Return the top 10 most similar movies\n",
    "    return df['title'].iloc[movie_indices]"
   ]
  },
  {
   "cell_type": "code",
   "execution_count": 19,
   "id": "75f9c19a",
   "metadata": {},
   "outputs": [
    {
     "name": "stdout",
     "output_type": "stream",
     "text": [
      "Recommendations for Toy Story:\n"
     ]
    },
    {
     "data": {
      "text/plain": [
       "13189                              Bolt\n",
       "22514        Mio in the Land of Faraway\n",
       "34813                  Love the Coopers\n",
       "2852     Home Alone 2: Lost in New York\n",
       "36753                 Norm of the North\n",
       "36754                 Norm of the North\n",
       "3055                      Stuart Little\n",
       "31438     Tom and Jerry: The Magic Ring\n",
       "15066                          New York\n",
       "350                     The Flintstones\n",
       "Name: title, dtype: object"
      ]
     },
     "execution_count": 19,
     "metadata": {},
     "output_type": "execute_result"
    }
   ],
   "source": [
    "test_movie_title = \"Toy Story\"\n",
    "recommended_movies = get_recommendations(test_movie_title)\n",
    "print(f\"Recommendations for {test_movie_title}:\")\n",
    "recommended_movies"
   ]
  },
  {
   "cell_type": "code",
   "execution_count": 20,
   "id": "0e9c61c1",
   "metadata": {},
   "outputs": [],
   "source": [
    "# PROGRAMMATICALLY SELECT A DIVERSE SET OF TEST MOVIES, \n",
    "#ENSURE THEY EXIST IN THE DATASET, \n",
    "#AND GENERATE RECOMMENDATIONS FOR EACH OF THEM.\n",
    "#EASY-PEASY #HATERSgonnaHATE #PLAYERSgonnaPLATE"
   ]
  },
  {
   "cell_type": "code",
   "execution_count": 21,
   "id": "b27b1ce2",
   "metadata": {},
   "outputs": [],
   "source": [
    "# Example to programmatically select a diverse set of test movies\n",
    "test_movies = [\n",
    "    \"Toy Story\",  # Animation/Comedy\n",
    "    \"Pulp Fiction\",  # Crime/Drama\n",
    "    \"The Shining\",  # Horror\n",
    "    \"Interstellar\",  # Sci-Fi\n",
    "    \"The Grand Budapest Hotel\",  # Comedy/Drama\n",
    "    \"Hereditary\",  # Horror/Thriller\n",
    "    \"Moonlight\",  # Drama\n",
    "    \"Mad Max: Fury Road\",  # Action\n",
    "    # Add more titles as needed to cover a wide range of genres and years\n",
    "]\n",
    "\n",
    "# Ensure all test movies are in the dataset\n",
    "test_movies = [movie for movie in test_movies if movie in df['title'].values]"
   ]
  },
  {
   "cell_type": "code",
   "execution_count": 22,
   "id": "97eb5d8d",
   "metadata": {
    "scrolled": true
   },
   "outputs": [
    {
     "name": "stdout",
     "output_type": "stream",
     "text": [
      "Recommendations for Toy Story:\n",
      "13189                              Bolt\n",
      "22514        Mio in the Land of Faraway\n",
      "34813                  Love the Coopers\n",
      "2852     Home Alone 2: Lost in New York\n",
      "36753                 Norm of the North\n",
      "36754                 Norm of the North\n",
      "3055                      Stuart Little\n",
      "31438     Tom and Jerry: The Magic Ring\n",
      "15066                          New York\n",
      "350                     The Flintstones\n",
      "Name: title, dtype: object\n",
      "\n",
      "------------------------------------------------------------\n",
      "\n",
      "Recommendations for Pulp Fiction:\n",
      "4424                   Red Heat\n",
      "1856      The French Connection\n",
      "9125                     Pusher\n",
      "27211    The Last of the Finest\n",
      "12225         American Gangster\n",
      "3924                    Traffic\n",
      "23133                     Chiko\n",
      "26910             Out of Bounds\n",
      "865                 Bulletproof\n",
      "4918            Another 48 Hrs.\n",
      "Name: title, dtype: object\n",
      "\n",
      "------------------------------------------------------------\n",
      "\n",
      "Recommendations for The Shining:\n",
      "15321           Father and Son\n",
      "9470                    Trauma\n",
      "25018         Curse of the Fly\n",
      "18955                 Madhouse\n",
      "44812     After This Our Exile\n",
      "26666    Night of Dark Shadows\n",
      "36903             Frankenstein\n",
      "36904             Frankenstein\n",
      "841                       Wife\n",
      "842                       Wife\n",
      "Name: title, dtype: object\n",
      "\n",
      "------------------------------------------------------------\n",
      "\n",
      "Recommendations for Interstellar:\n",
      "14644                                Avatar\n",
      "3251                        Mission to Mars\n",
      "38934                              Prospect\n",
      "42646          Rogue One: A Star Wars Story\n",
      "8681     Journey to the Far Side of the Sun\n",
      "36911                      The War in Space\n",
      "36912                      The War in Space\n",
      "44059                       Alien: Covenant\n",
      "7480              Babylon 5: A Call to Arms\n",
      "41758                      Alien Apocalypse\n",
      "Name: title, dtype: object\n",
      "\n",
      "------------------------------------------------------------\n",
      "\n",
      "Recommendations for The Grand Budapest Hotel:\n",
      "14718                    Hachi: A Dog's Tale\n",
      "12753                                  Boy A\n",
      "6653                          Mambo Italiano\n",
      "38979                   Jock of the Bushveld\n",
      "7183                 The Diary of Anne Frank\n",
      "35362    Wizards of Waverly Place: The Movie\n",
      "31852                 Raising Jeffrey Dahmer\n",
      "33103                          Wish You Well\n",
      "33005                    The Lady in the Van\n",
      "5886                       Nicholas Nickleby\n",
      "Name: title, dtype: object\n",
      "\n",
      "------------------------------------------------------------\n",
      "\n",
      "Recommendations for Moonlight:\n",
      "761           Trainspotting\n",
      "32625               4 Moons\n",
      "35674               Twinkle\n",
      "35675               Twinkle\n",
      "15725    I Killed My Mother\n",
      "23133                 Chiko\n",
      "21192           Any Day Now\n",
      "3924                Traffic\n",
      "11735      A Taste of Honey\n",
      "13403               Save Me\n",
      "Name: title, dtype: object\n",
      "\n",
      "------------------------------------------------------------\n",
      "\n",
      "Recommendations for Mad Max: Fury Road:\n",
      "26719        Mad Max: Fury Road\n",
      "21196              Man of Steel\n",
      "14210                         9\n",
      "6816     The Matrix Revolutions\n",
      "3638                 Titan A.E.\n",
      "44247                Half -Life\n",
      "4583                  Def-Con 4\n",
      "22059              Ender's Game\n",
      "20228                Slipstream\n",
      "26017        Terminator Genisys\n",
      "Name: title, dtype: object\n",
      "\n",
      "------------------------------------------------------------\n",
      "\n"
     ]
    }
   ],
   "source": [
    "for movie in test_movies:\n",
    "    print(f\"Recommendations for {movie}:\")\n",
    "    recommendations = get_recommendations(movie)\n",
    "    print(recommendations)\n",
    "    print(\"\\n\" + \"-\"*60 + \"\\n\")"
   ]
  },
  {
   "cell_type": "code",
   "execution_count": null,
   "id": "77a7524e",
   "metadata": {},
   "outputs": [],
   "source": [
    "#FIN"
   ]
  }
 ],
 "metadata": {
  "kernelspec": {
   "display_name": "Python 3 (ipykernel)",
   "language": "python",
   "name": "python3"
  },
  "language_info": {
   "codemirror_mode": {
    "name": "ipython",
    "version": 3
   },
   "file_extension": ".py",
   "mimetype": "text/x-python",
   "name": "python",
   "nbconvert_exporter": "python",
   "pygments_lexer": "ipython3",
   "version": "3.11.4"
  }
 },
 "nbformat": 4,
 "nbformat_minor": 5
}
